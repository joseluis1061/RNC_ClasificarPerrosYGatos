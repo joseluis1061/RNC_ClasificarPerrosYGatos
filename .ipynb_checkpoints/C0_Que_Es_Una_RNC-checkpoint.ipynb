{
 "cells": [
  {
   "cell_type": "markdown",
   "metadata": {},
   "source": [
    "# ¿Que es una red neuronal convolusional?"
   ]
  },
  {
   "cell_type": "markdown",
   "metadata": {},
   "source": [
    "Una red neuronal convolucional es un metódo comunmente usado para le detección de objetos en imágenes. Es una red neuronal supervisada, lo cual quiere decir que requerimos tener etiquetados los datos de entrada para poder clasificar de manera idonea. \n",
    "\n",
    "![Entrada Etiquetada](img/EntradaEtiqueta.png \"Entrada Etiquetada\")\n",
    "\n",
    "\n",
    "Su uso se basa en la busqueda de patrones en una imagen, la cantidad de patrones esta directamente relacionada con el número de capas que conformen la red convolucional. \n",
    "\n",
    "A medida que se agregan mas capas a la red cada capa se especializa en aprender algún tipo de patrón especifico. Las primeras capas buscaran patrones basicos, tales como lineas curvas etc. A medida que se agregan mas capas, estas nuevas capas irán especilizando más el fragmento de imagen que desea detectar. El objetivo es buscar un balance donde la red neuronal tenga suficientes números de capas para buscar patrones que le permitan generalizar los patrones a buscar, sin especializarse solo en las imágenes con las que ha sido entrenada. \n",
    "\n",
    "Uno de los retos a vencer por parte de una red neuronal convolucional está en determinar que patrón es el adecuado para clasificar de manera correcta una imágen. Este es un obstaculo dificil de vencer incluso para nuestro cerebro. Muchas imágenes que se nos presentan pueden tener un significado aparente erroneo, ambigüo o con significado variable según el punto de vista donde intentemos abordarlas.\n",
    "\n",
    "![Imagen ambigua](img/ambigua.bmp \"Imagen ambigua\")"
   ]
  },
  {
   "cell_type": "markdown",
   "metadata": {},
   "source": [
    "## ¿Que es una imágen digital?\n",
    "\n",
    "Una imagen digital o gráfico digital es una representación bidimensional de una imagen a partir de una matriz numérica. Los posibles valores que tome cada celda en la matriz, están determinados por el mapa de bits que representara la imágen. Siendo los más conocidos, el mapa de bits, la escala de grises y el mapa de color R,G,B. \n",
    "\n",
    "Los posibles valores de una celda o tambien conocidos como pixel están limitados como:\n",
    "\n",
    "- **Imagen binaria:** o tambien conocida como mapa de bits debido a que los valores de cada pixel solo tienen dos posibles valores 0 y 1.\n",
    "\n",
    "- **Imágen en escala de grises:** los pixeles pueden tomar valores en una escala desde 0 a 255. Es una representación mas amplia en la cual se pueden representar formas y dar profundidad a las imágenes.\n",
    "\n",
    "- **Imagen a color o RGB:** Estas imágenes son una combinación matricial de tres matrizes que se traslapan en cada celda o pixel. De tal manera que cada matriz representa uno de los tres colores Red, Green o Blue en una escala entre 0 a 255. Cada uno de los pixeles tomará el color de acuerdo a los valores o cantidades RGB que sea indicado en cada celda, siendo el blanco representado por los colores maximos R = 255, G = 255, B = 255 y el color negro con R = 0, G = 0, B = 0.\n",
    "\n",
    "![Mapa de bits](img/Pixel.png \"Mapa de bits\")\n",
    "\n",
    "Estas matrices deben ser modificadas de tal manera en que cambiemos la información a un array para poder manipularlas en la red neuronal.\n",
    "\n",
    "El modo de funcionamiento basico de una red neuronal convolucional la podemos resumir en 4 estructuras:\n",
    "\n",
    "1. Convolución \n",
    "2. Max pooling\n",
    "3. Flattening \n",
    "4. Full conection\n",
    "\n",
    "![RNC](img/RNC.bmp \"RNC\")"
   ]
  },
  {
   "cell_type": "markdown",
   "metadata": {},
   "source": [
    "## Operación de convolución\n",
    "\n",
    "Basicamente una convolución esta basada en integrales, en si lo que se hace es que una función opera sobre otra. \n",
    "\n",
    "Un trabajo muy completo para estudiar estas operaciones en su base matématica esta expuesto por introduction to convolutional neural networks jianxin wu. Puede acceder a su contribución cientifica en este enlace: https://cs.nju.edu.cn/wujx/.\n",
    "\n",
    "De manera matricial una convolución sera la operación matricial (producto escalar) entre la imagen original y una matriz más pequeña denominada Kernel. Este kernel recorrera toda la matriz original paso a paso, en cada paso o iteración se producira un nuevo valor, este nuevo valor sera la salida de nuestra proxima capa de red neuronal. Está salida produce una matriz de menor tamaño que la original llamado mapá de caracteristicas.\n",
    "\n",
    "![RNC](img/convolucion.png \"RNC\")\n",
    "\n",
    "Como se puede observar en la imágen tendremos:\n",
    "\n",
    "1. Una imagen original representada en una matriz de valores iniciales\n",
    "2. El kernel o filtro de caracteristicas que es de menor tamaño que la imágen original, el cual tiene como función buscar una caracteristica dentro de la imágen. Hay diferentes filtros que buscan determinar información pertinente o transformar la imágen para encontrar estas caracteristicas, algunos de ellos son: Detector de bordes, suavizado, difuminado, maximo, minimo. \n",
    "3. Mapa de caracteristícas es el resultado final de aplicar el kernel a la imágen. Este tendra asentuados las caracteristicas que el filtro desea asentuar y minimizados los que no. \n",
    "4. A uná imagen se le pueden aplicar multiples filtros kernel que al agruparlos se denominan mapa de convolución. De esta manera tendremos un mapa de caracteristicas de nuestras imagenes que nos ayudaran a deducir los elementos que componen nuestra imágen. \n",
    "\n",
    "La operación de convolución se basa en la operación producto cruz, la cual es una operación lineal. Lo que buscamos es acentuar los rasgos obtenidos mediante la convolución, esto se logra magnificando los resultados no lineales, por lo tanto es necesario usar una función de activación no líneal. En este caso se recomienda la función RELU o liquid relu. \n",
    "\n",
    "![RNC](img/Relu.png \"RNC\")\n"
   ]
  },
  {
   "cell_type": "markdown",
   "metadata": {},
   "source": [
    "## Operación Max Pooling\n",
    "\n",
    "Está operación busca hacer que la red neuronal sea capaz de detectar las imagenes en diferentes posiciones, tamaños, enfoques, cantidad de luz. \n",
    "\n",
    "El otro uso que tenemos para está operación es reducir la cantidad de información que se crea mediante las convoluciones. A pesar que un solo kernel reduce la información de la imagen original. Si aplicamos muchos kernel obtendremos muchas capas de caracteristicas que en un punto terminaran por superar la cantidad de pixeles originales. \n",
    "\n",
    "El max pooling consiste en aplicar un filtro de maximos a cada mapa de caracteristicas, de tal forma que se eliminen los rasgos menos relevantes y a su vez minimicemos el tamaño del mapá de caracteristicas. De está manera liberamos costó de computo a la máquina en el momento de entrenar el modelo. \n",
    "\n",
    "![Max Pooling](img/max_pooling.png \"Max Pooling\")\n",
    "\n",
    "El tamaño de este filtro puede ser variable de acuerdo a nuestras necesidades, al igual que el kernel generalmente estos filtros requieren usar tamaños impares. \n",
    "\n",
    "Ademas del maximo tambien se puede aplicar otras técnicas como el promedio o el minimo de los datos.\n",
    "\n",
    "Una herramienta que puede servir como método visual para enteder el proceso de RNC, esta en el siguiente ling:\n",
    "\n",
    "https://www.cs.ryerson.ca/~aharley/vis/conv/flat.html\n",
    "\n",
    "Con esta herramienta podremos escribir un número y nos presentara la respuesta de la RNC y a su vez nos muestra los resultados de cada convolución que ha sido aplicada en el módelo y los resutados por pixel. "
   ]
  },
  {
   "cell_type": "markdown",
   "metadata": {},
   "source": [
    "## Flattening\n",
    "\n",
    "Este proceso consiste en pasar de una matriz 2d a convertir en vectores columna cada una de las salidas que se obtuvieron del ultimo pasa hasta ahora descrito (max pooling). Este paso se aplicara a cada uno de los mapas de caracteristicas que hemos encontrado, generando vectores columna, uno \"sobre\" otro para pasarlos como fuentes de alimentación de nuestra red neuronal. \n",
    "\n",
    "Este paso es necesario pues nuestras capas son arreglos de vectores columnas que contienen neuronas, en forma matricial no seria posible analizar esta información. \n",
    "\n",
    "\n",
    "![Flattening](img/Flattening.png \"Flattening\")"
   ]
  },
  {
   "cell_type": "markdown",
   "metadata": {},
   "source": [
    "## Full Connection"
   ]
  }
 ],
 "metadata": {
  "kernelspec": {
   "display_name": "Python 3",
   "language": "python",
   "name": "python3"
  },
  "language_info": {
   "codemirror_mode": {
    "name": "ipython",
    "version": 3
   },
   "file_extension": ".py",
   "mimetype": "text/x-python",
   "name": "python",
   "nbconvert_exporter": "python",
   "pygments_lexer": "ipython3",
   "version": "3.8.3"
  }
 },
 "nbformat": 4,
 "nbformat_minor": 4
}
